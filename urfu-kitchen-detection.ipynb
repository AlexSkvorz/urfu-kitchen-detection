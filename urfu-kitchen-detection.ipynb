{
 "cells": [
  {
   "cell_type": "code",
   "execution_count": 1,
   "id": "beed08ae",
   "metadata": {
    "_cell_guid": "b1076dfc-b9ad-4769-8c92-a6c4dae69d19",
    "_uuid": "8f2839f25d086af736a60e9eeb907d3b93b6e0e5",
    "execution": {
     "iopub.execute_input": "2024-12-16T08:46:44.712643Z",
     "iopub.status.busy": "2024-12-16T08:46:44.712190Z",
     "iopub.status.idle": "2024-12-16T08:46:47.074054Z",
     "shell.execute_reply": "2024-12-16T08:46:47.072919Z"
    },
    "papermill": {
     "duration": 2.375116,
     "end_time": "2024-12-16T08:46:47.076585",
     "exception": false,
     "start_time": "2024-12-16T08:46:44.701469",
     "status": "completed"
    },
    "tags": []
   },
   "outputs": [
    {
     "name": "stdout",
     "output_type": "stream",
     "text": [
      "/kaggle/input/whats-cooking/sample_submission.csv.zip\n",
      "/kaggle/input/whats-cooking/test.json.zip\n",
      "/kaggle/input/whats-cooking/train.json.zip\n"
     ]
    }
   ],
   "source": [
    "import re\n",
    "import os\n",
    "import json\n",
    "import zipfile\n",
    "import pandas as pd\n",
    "import numpy as np\n",
    "from collections import Counter\n",
    "import matplotlib.pyplot as plt\n",
    "from sklearn.feature_extraction.text import TfidfVectorizer\n",
    "from sklearn.preprocessing import LabelEncoder\n",
    "from sklearn.model_selection import train_test_split\n",
    "from sklearn.linear_model import LogisticRegression\n",
    "from sklearn.metrics import precision_score, recall_score, f1_score\n",
    "from sklearn.svm import SVC\n",
    "\n",
    "\n",
    "for dirname, _, filenames in os.walk('/kaggle/input'):\n",
    "    for filename in filenames:\n",
    "        print(os.path.join(dirname, filename))"
   ]
  },
  {
   "cell_type": "code",
   "execution_count": 2,
   "id": "c02edb67",
   "metadata": {
    "execution": {
     "iopub.execute_input": "2024-12-16T08:46:47.097371Z",
     "iopub.status.busy": "2024-12-16T08:46:47.096730Z",
     "iopub.status.idle": "2024-12-16T08:46:47.576930Z",
     "shell.execute_reply": "2024-12-16T08:46:47.575970Z"
    },
    "papermill": {
     "duration": 0.492456,
     "end_time": "2024-12-16T08:46:47.579486",
     "exception": false,
     "start_time": "2024-12-16T08:46:47.087030",
     "status": "completed"
    },
    "tags": []
   },
   "outputs": [],
   "source": [
    "with zipfile.ZipFile('/kaggle/input/whats-cooking/train.json.zip', 'r') as zf:\n",
    "    with zf.open('train.json') as f:\n",
    "        train = pd.read_json(f)"
   ]
  },
  {
   "cell_type": "markdown",
   "id": "34089d14",
   "metadata": {
    "papermill": {
     "duration": 0.00763,
     "end_time": "2024-12-16T08:46:47.595561",
     "exception": false,
     "start_time": "2024-12-16T08:46:47.587931",
     "status": "completed"
    },
    "tags": []
   },
   "source": [
    "# Анализ данных\n",
    "## Общая информация о датасете"
   ]
  },
  {
   "cell_type": "code",
   "execution_count": 3,
   "id": "6a8e4f0f",
   "metadata": {
    "execution": {
     "iopub.execute_input": "2024-12-16T08:46:47.613181Z",
     "iopub.status.busy": "2024-12-16T08:46:47.612788Z",
     "iopub.status.idle": "2024-12-16T08:46:47.629634Z",
     "shell.execute_reply": "2024-12-16T08:46:47.628535Z"
    },
    "papermill": {
     "duration": 0.02849,
     "end_time": "2024-12-16T08:46:47.631998",
     "exception": false,
     "start_time": "2024-12-16T08:46:47.603508",
     "status": "completed"
    },
    "tags": []
   },
   "outputs": [
    {
     "data": {
      "text/html": [
       "<div>\n",
       "<style scoped>\n",
       "    .dataframe tbody tr th:only-of-type {\n",
       "        vertical-align: middle;\n",
       "    }\n",
       "\n",
       "    .dataframe tbody tr th {\n",
       "        vertical-align: top;\n",
       "    }\n",
       "\n",
       "    .dataframe thead th {\n",
       "        text-align: right;\n",
       "    }\n",
       "</style>\n",
       "<table border=\"1\" class=\"dataframe\">\n",
       "  <thead>\n",
       "    <tr style=\"text-align: right;\">\n",
       "      <th></th>\n",
       "      <th>id</th>\n",
       "      <th>cuisine</th>\n",
       "      <th>ingredients</th>\n",
       "    </tr>\n",
       "  </thead>\n",
       "  <tbody>\n",
       "    <tr>\n",
       "      <th>0</th>\n",
       "      <td>10259</td>\n",
       "      <td>greek</td>\n",
       "      <td>[romaine lettuce, black olives, grape tomatoes...</td>\n",
       "    </tr>\n",
       "    <tr>\n",
       "      <th>1</th>\n",
       "      <td>25693</td>\n",
       "      <td>southern_us</td>\n",
       "      <td>[plain flour, ground pepper, salt, tomatoes, g...</td>\n",
       "    </tr>\n",
       "    <tr>\n",
       "      <th>2</th>\n",
       "      <td>20130</td>\n",
       "      <td>filipino</td>\n",
       "      <td>[eggs, pepper, salt, mayonaise, cooking oil, g...</td>\n",
       "    </tr>\n",
       "    <tr>\n",
       "      <th>3</th>\n",
       "      <td>22213</td>\n",
       "      <td>indian</td>\n",
       "      <td>[water, vegetable oil, wheat, salt]</td>\n",
       "    </tr>\n",
       "    <tr>\n",
       "      <th>4</th>\n",
       "      <td>13162</td>\n",
       "      <td>indian</td>\n",
       "      <td>[black pepper, shallots, cornflour, cayenne pe...</td>\n",
       "    </tr>\n",
       "  </tbody>\n",
       "</table>\n",
       "</div>"
      ],
      "text/plain": [
       "      id      cuisine                                        ingredients\n",
       "0  10259        greek  [romaine lettuce, black olives, grape tomatoes...\n",
       "1  25693  southern_us  [plain flour, ground pepper, salt, tomatoes, g...\n",
       "2  20130     filipino  [eggs, pepper, salt, mayonaise, cooking oil, g...\n",
       "3  22213       indian                [water, vegetable oil, wheat, salt]\n",
       "4  13162       indian  [black pepper, shallots, cornflour, cayenne pe..."
      ]
     },
     "execution_count": 3,
     "metadata": {},
     "output_type": "execute_result"
    }
   ],
   "source": [
    "train.head()"
   ]
  },
  {
   "cell_type": "code",
   "execution_count": 4,
   "id": "cbd89c73",
   "metadata": {
    "execution": {
     "iopub.execute_input": "2024-12-16T08:46:47.650198Z",
     "iopub.status.busy": "2024-12-16T08:46:47.649863Z",
     "iopub.status.idle": "2024-12-16T08:46:47.656790Z",
     "shell.execute_reply": "2024-12-16T08:46:47.655733Z"
    },
    "papermill": {
     "duration": 0.018607,
     "end_time": "2024-12-16T08:46:47.659069",
     "exception": false,
     "start_time": "2024-12-16T08:46:47.640462",
     "status": "completed"
    },
    "tags": []
   },
   "outputs": [
    {
     "data": {
      "text/plain": [
       "(39774, 3)"
      ]
     },
     "execution_count": 4,
     "metadata": {},
     "output_type": "execute_result"
    }
   ],
   "source": [
    "train.shape"
   ]
  },
  {
   "cell_type": "code",
   "execution_count": 5,
   "id": "a68db0a8",
   "metadata": {
    "execution": {
     "iopub.execute_input": "2024-12-16T08:46:47.676955Z",
     "iopub.status.busy": "2024-12-16T08:46:47.676553Z",
     "iopub.status.idle": "2024-12-16T08:46:47.696842Z",
     "shell.execute_reply": "2024-12-16T08:46:47.695691Z"
    },
    "papermill": {
     "duration": 0.031691,
     "end_time": "2024-12-16T08:46:47.698863",
     "exception": false,
     "start_time": "2024-12-16T08:46:47.667172",
     "status": "completed"
    },
    "tags": []
   },
   "outputs": [
    {
     "data": {
      "text/plain": [
       "id             0\n",
       "cuisine        0\n",
       "ingredients    0\n",
       "dtype: int64"
      ]
     },
     "execution_count": 5,
     "metadata": {},
     "output_type": "execute_result"
    }
   ],
   "source": [
    "train.isnull().sum()"
   ]
  },
  {
   "cell_type": "markdown",
   "id": "df917b25",
   "metadata": {
    "papermill": {
     "duration": 0.008157,
     "end_time": "2024-12-16T08:46:47.715568",
     "exception": false,
     "start_time": "2024-12-16T08:46:47.707411",
     "status": "completed"
    },
    "tags": []
   },
   "source": [
    "Каждая запись включает в себя:\n",
    "* id\n",
    "* cuisine: тип кухни (прим. греческая, индийская, филипинская). Целевая переменная.\n",
    "* список ингридиентов\n",
    "\n",
    "Количество записей в датасете: 39774\n",
    "\n",
    "Пропущенные значения отсутствуют."
   ]
  },
  {
   "cell_type": "code",
   "execution_count": 6,
   "id": "18dc2a5a",
   "metadata": {
    "execution": {
     "iopub.execute_input": "2024-12-16T08:46:47.733875Z",
     "iopub.status.busy": "2024-12-16T08:46:47.733196Z",
     "iopub.status.idle": "2024-12-16T08:46:50.035048Z",
     "shell.execute_reply": "2024-12-16T08:46:50.034065Z"
    },
    "papermill": {
     "duration": 2.313847,
     "end_time": "2024-12-16T08:46:50.037546",
     "exception": false,
     "start_time": "2024-12-16T08:46:47.723699",
     "status": "completed"
    },
    "tags": []
   },
   "outputs": [],
   "source": [
    "INGREDIENTS = 75\n",
    "\n",
    "unique_cuisines = set(train['cuisine'])\n",
    "\n",
    "all_ingredients_with_cuisine = [\n",
    "    (cuisine, ingredient)\n",
    "    for cuisine, ingredients_list in zip(train['cuisine'], train['ingredients'])\n",
    "    for ingredient in ingredients_list\n",
    "]\n",
    "\n",
    "ingredient_counts = Counter([item[1] for item in all_ingredients_with_cuisine])\n",
    "\n",
    "most_common_ingredients = [item for item, count in ingredient_counts.most_common(INGREDIENTS)]\n",
    "\n",
    "ingredient_cuisine_distribution = {\n",
    "    ingredient: len(\n",
    "        set(cuisine for cuisine, ingr in all_ingredients_with_cuisine if ingr == ingredient)\n",
    "    )\n",
    "    for ingredient in most_common_ingredients\n",
    "}\n",
    "\n",
    "total_cuisines = len(unique_cuisines)\n",
    "ingredient_cuisine_ratios = {\n",
    "    ingredient: (count / total_cuisines) * 100\n",
    "    for ingredient, count in ingredient_cuisine_distribution.items()\n",
    "}\n",
    "\n",
    "sorted_ingredients = sorted(\n",
    "    ingredient_cuisine_ratios.items(),\n",
    "    key=lambda x: x[1],\n",
    "    reverse=True\n",
    ")"
   ]
  },
  {
   "cell_type": "code",
   "execution_count": 7,
   "id": "6b37add7",
   "metadata": {
    "execution": {
     "iopub.execute_input": "2024-12-16T08:46:50.056889Z",
     "iopub.status.busy": "2024-12-16T08:46:50.056524Z",
     "iopub.status.idle": "2024-12-16T08:46:51.186604Z",
     "shell.execute_reply": "2024-12-16T08:46:51.185376Z"
    },
    "papermill": {
     "duration": 1.143854,
     "end_time": "2024-12-16T08:46:51.190229",
     "exception": false,
     "start_time": "2024-12-16T08:46:50.046375",
     "status": "completed"
    },
    "tags": []
   },
   "outputs": [
    {
     "data": {
      "image/png": "[encoded data removed]",
      "text/plain": [
       "<Figure size 1000x2000 with 1 Axes>"
      ]
     },
     "metadata": {},
     "output_type": "display_data"
    }
   ],
   "source": [
    "ingredients = [item[0] for item in sorted_ingredients]\n",
    "ratios = [item[1] for item in sorted_ingredients]\n",
    "\n",
    "ingredients = ingredients\n",
    "ratios = ratios\n",
    "\n",
    "plt.figure(figsize=(10, 20))\n",
    "\n",
    "plt.barh(ingredients, ratios, color='red', edgecolor='black')\n",
    "\n",
    "plt.xlabel('Доля кухонь', fontsize=12)\n",
    "plt.ylabel('Ингредиенты', fontsize=12)\n",
    "plt.title('Доля кухонь, в которых встречаются ингредиенты', fontsize=14)\n",
    "plt.yticks(fontsize=8)\n",
    "\n",
    "plt.tight_layout()\n",
    "plt.show()"
   ]
  },
  {
   "cell_type": "code",
   "execution_count": 8,
   "id": "2d1dc0c5",
   "metadata": {
    "execution": {
     "iopub.execute_input": "2024-12-16T08:46:51.212974Z",
     "iopub.status.busy": "2024-12-16T08:46:51.212614Z",
     "iopub.status.idle": "2024-12-16T08:46:51.430475Z",
     "shell.execute_reply": "2024-12-16T08:46:51.429493Z"
    },
    "papermill": {
     "duration": 0.231764,
     "end_time": "2024-12-16T08:46:51.432737",
     "exception": false,
     "start_time": "2024-12-16T08:46:51.200973",
     "status": "completed"
    },
    "tags": []
   },
   "outputs": [
    {
     "name": "stdout",
     "output_type": "stream",
     "text": [
      "Наиболее частые короткие слова:\n",
      "of: 691\n",
      "in: 413\n",
      "&: 375\n",
      "de: 232\n",
      "1%: 211\n",
      "2%: 85\n",
      "or: 63\n",
      "El: 52\n",
      "el: 44\n",
      "on: 30\n",
      "lo: 29\n",
      "I: 22\n",
      "(: 20\n",
      "no: 19\n",
      "4: 11\n",
      "up: 9\n",
      "'n: 7\n",
      "-: 6\n",
      "au: 6\n",
      "ic: 5\n"
     ]
    }
   ],
   "source": [
    "WORDS = 20\n",
    "\n",
    "all_words = [\n",
    "    word\n",
    "    for ingredients in train['ingredients']\n",
    "    for ingredient in ingredients\n",
    "    for word in ingredient.split()\n",
    "]\n",
    "\n",
    "short_words = [word for word in all_words if len(word) <= 2]\n",
    "\n",
    "short_word_counts = Counter(short_words)\n",
    "\n",
    "top_short_words = short_word_counts.most_common(WORDS)\n",
    "\n",
    "print(\"Наиболее частые короткие слова:\")\n",
    "for word, count in top_short_words:\n",
    "    print(f\"{word}: {count}\")"
   ]
  },
  {
   "cell_type": "markdown",
   "id": "2c992168",
   "metadata": {
    "papermill": {
     "duration": 0.010127,
     "end_time": "2024-12-16T08:46:51.453386",
     "exception": false,
     "start_time": "2024-12-16T08:46:51.443259",
     "status": "completed"
    },
    "tags": []
   },
   "source": [
    "## Анализ кухонь"
   ]
  },
  {
   "cell_type": "code",
   "execution_count": 9,
   "id": "df9dbb8b",
   "metadata": {
    "execution": {
     "iopub.execute_input": "2024-12-16T08:46:51.475708Z",
     "iopub.status.busy": "2024-12-16T08:46:51.475255Z",
     "iopub.status.idle": "2024-12-16T08:46:51.493327Z",
     "shell.execute_reply": "2024-12-16T08:46:51.492346Z"
    },
    "papermill": {
     "duration": 0.031454,
     "end_time": "2024-12-16T08:46:51.495216",
     "exception": false,
     "start_time": "2024-12-16T08:46:51.463762",
     "status": "completed"
    },
    "tags": []
   },
   "outputs": [
    {
     "data": {
      "text/plain": [
       "20"
      ]
     },
     "execution_count": 9,
     "metadata": {},
     "output_type": "execute_result"
    }
   ],
   "source": [
    "cuisines = train['cuisine'].value_counts()\n",
    "len(cuisines)"
   ]
  },
  {
   "cell_type": "code",
   "execution_count": 10,
   "id": "d560a77a",
   "metadata": {
    "execution": {
     "iopub.execute_input": "2024-12-16T08:46:51.517765Z",
     "iopub.status.busy": "2024-12-16T08:46:51.517384Z",
     "iopub.status.idle": "2024-12-16T08:46:51.524599Z",
     "shell.execute_reply": "2024-12-16T08:46:51.523621Z"
    },
    "papermill": {
     "duration": 0.020649,
     "end_time": "2024-12-16T08:46:51.526530",
     "exception": false,
     "start_time": "2024-12-16T08:46:51.505881",
     "status": "completed"
    },
    "tags": []
   },
   "outputs": [
    {
     "data": {
      "text/plain": [
       "cuisine\n",
       "italian         7838\n",
       "mexican         6438\n",
       "southern_us     4320\n",
       "indian          3003\n",
       "chinese         2673\n",
       "french          2646\n",
       "cajun_creole    1546\n",
       "thai            1539\n",
       "japanese        1423\n",
       "greek           1175\n",
       "spanish          989\n",
       "korean           830\n",
       "vietnamese       825\n",
       "moroccan         821\n",
       "british          804\n",
       "filipino         755\n",
       "irish            667\n",
       "jamaican         526\n",
       "russian          489\n",
       "brazilian        467\n",
       "Name: count, dtype: int64"
      ]
     },
     "execution_count": 10,
     "metadata": {},
     "output_type": "execute_result"
    }
   ],
   "source": [
    "cuisines"
   ]
  },
  {
   "cell_type": "markdown",
   "id": "cf0ed332",
   "metadata": {
    "papermill": {
     "duration": 0.01053,
     "end_time": "2024-12-16T08:46:51.547585",
     "exception": false,
     "start_time": "2024-12-16T08:46:51.537055",
     "status": "completed"
    },
    "tags": []
   },
   "source": [
    "* Количество кухонь в датасете: 20\n",
    "* Наиболее встречающаяся кухня - итальянская (7838)\n",
    "* Наименее встречаюшаяся кухня - бразильская (467)"
   ]
  },
  {
   "cell_type": "markdown",
   "id": "87123ade",
   "metadata": {
    "papermill": {
     "duration": 0.010382,
     "end_time": "2024-12-16T08:46:51.568458",
     "exception": false,
     "start_time": "2024-12-16T08:46:51.558076",
     "status": "completed"
    },
    "tags": []
   },
   "source": [
    "## Анализ ингредиентов"
   ]
  },
  {
   "cell_type": "code",
   "execution_count": 11,
   "id": "c4114785",
   "metadata": {
    "execution": {
     "iopub.execute_input": "2024-12-16T08:46:51.591099Z",
     "iopub.status.busy": "2024-12-16T08:46:51.590705Z",
     "iopub.status.idle": "2024-12-16T08:46:51.666429Z",
     "shell.execute_reply": "2024-12-16T08:46:51.665454Z"
    },
    "papermill": {
     "duration": 0.089676,
     "end_time": "2024-12-16T08:46:51.668587",
     "exception": false,
     "start_time": "2024-12-16T08:46:51.578911",
     "status": "completed"
    },
    "tags": []
   },
   "outputs": [
    {
     "data": {
      "text/plain": [
       "6714"
      ]
     },
     "execution_count": 11,
     "metadata": {},
     "output_type": "execute_result"
    }
   ],
   "source": [
    "unique_ingredients = train['ingredients'].explode().unique()\n",
    "len(unique_ingredients)"
   ]
  },
  {
   "cell_type": "code",
   "execution_count": 12,
   "id": "f8773a09",
   "metadata": {
    "execution": {
     "iopub.execute_input": "2024-12-16T08:46:51.691349Z",
     "iopub.status.busy": "2024-12-16T08:46:51.690970Z",
     "iopub.status.idle": "2024-12-16T08:46:51.711310Z",
     "shell.execute_reply": "2024-12-16T08:46:51.710484Z"
    },
    "papermill": {
     "duration": 0.034206,
     "end_time": "2024-12-16T08:46:51.713456",
     "exception": false,
     "start_time": "2024-12-16T08:46:51.679250",
     "status": "completed"
    },
    "tags": []
   },
   "outputs": [],
   "source": [
    "ingredients_per_record = train['ingredients'].apply(len)"
   ]
  },
  {
   "cell_type": "code",
   "execution_count": 13,
   "id": "297c3cd1",
   "metadata": {
    "execution": {
     "iopub.execute_input": "2024-12-16T08:46:51.736438Z",
     "iopub.status.busy": "2024-12-16T08:46:51.736048Z",
     "iopub.status.idle": "2024-12-16T08:46:51.742566Z",
     "shell.execute_reply": "2024-12-16T08:46:51.741715Z"
    },
    "papermill": {
     "duration": 0.020348,
     "end_time": "2024-12-16T08:46:51.744530",
     "exception": false,
     "start_time": "2024-12-16T08:46:51.724182",
     "status": "completed"
    },
    "tags": []
   },
   "outputs": [
    {
     "data": {
      "text/plain": [
       "1"
      ]
     },
     "execution_count": 13,
     "metadata": {},
     "output_type": "execute_result"
    }
   ],
   "source": [
    "ingredients_per_record.min()"
   ]
  },
  {
   "cell_type": "code",
   "execution_count": 14,
   "id": "0aad8c6c",
   "metadata": {
    "execution": {
     "iopub.execute_input": "2024-12-16T08:46:51.767069Z",
     "iopub.status.busy": "2024-12-16T08:46:51.766711Z",
     "iopub.status.idle": "2024-12-16T08:46:51.774290Z",
     "shell.execute_reply": "2024-12-16T08:46:51.773229Z"
    },
    "papermill": {
     "duration": 0.021126,
     "end_time": "2024-12-16T08:46:51.776228",
     "exception": false,
     "start_time": "2024-12-16T08:46:51.755102",
     "status": "completed"
    },
    "tags": []
   },
   "outputs": [
    {
     "data": {
      "text/plain": [
       "65"
      ]
     },
     "execution_count": 14,
     "metadata": {},
     "output_type": "execute_result"
    }
   ],
   "source": [
    "ingredients_per_record.max()"
   ]
  },
  {
   "cell_type": "code",
   "execution_count": 15,
   "id": "8ddd2c71",
   "metadata": {
    "execution": {
     "iopub.execute_input": "2024-12-16T08:46:51.799549Z",
     "iopub.status.busy": "2024-12-16T08:46:51.799186Z",
     "iopub.status.idle": "2024-12-16T08:46:51.806734Z",
     "shell.execute_reply": "2024-12-16T08:46:51.805657Z"
    },
    "papermill": {
     "duration": 0.021694,
     "end_time": "2024-12-16T08:46:51.808897",
     "exception": false,
     "start_time": "2024-12-16T08:46:51.787203",
     "status": "completed"
    },
    "tags": []
   },
   "outputs": [
    {
     "data": {
      "text/plain": [
       "10.76771257605471"
      ]
     },
     "execution_count": 15,
     "metadata": {},
     "output_type": "execute_result"
    }
   ],
   "source": [
    "ingredients_per_record.mean()"
   ]
  },
  {
   "cell_type": "code",
   "execution_count": 16,
   "id": "7af74f5c",
   "metadata": {
    "execution": {
     "iopub.execute_input": "2024-12-16T08:46:51.832042Z",
     "iopub.status.busy": "2024-12-16T08:46:51.831698Z",
     "iopub.status.idle": "2024-12-16T08:46:51.840932Z",
     "shell.execute_reply": "2024-12-16T08:46:51.839991Z"
    },
    "papermill": {
     "duration": 0.023135,
     "end_time": "2024-12-16T08:46:51.842896",
     "exception": false,
     "start_time": "2024-12-16T08:46:51.819761",
     "status": "completed"
    },
    "tags": []
   },
   "outputs": [
    {
     "data": {
      "text/plain": [
       "10.0"
      ]
     },
     "execution_count": 16,
     "metadata": {},
     "output_type": "execute_result"
    }
   ],
   "source": [
    "ingredients_per_record.median()"
   ]
  },
  {
   "cell_type": "code",
   "execution_count": 17,
   "id": "144c7372",
   "metadata": {
    "execution": {
     "iopub.execute_input": "2024-12-16T08:46:51.867434Z",
     "iopub.status.busy": "2024-12-16T08:46:51.866620Z",
     "iopub.status.idle": "2024-12-16T08:46:51.939687Z",
     "shell.execute_reply": "2024-12-16T08:46:51.938843Z"
    },
    "papermill": {
     "duration": 0.088031,
     "end_time": "2024-12-16T08:46:51.942051",
     "exception": false,
     "start_time": "2024-12-16T08:46:51.854020",
     "status": "completed"
    },
    "tags": []
   },
   "outputs": [],
   "source": [
    "ingredient_counts = train['ingredients'].explode().value_counts()"
   ]
  },
  {
   "cell_type": "code",
   "execution_count": 18,
   "id": "704b8c67",
   "metadata": {
    "execution": {
     "iopub.execute_input": "2024-12-16T08:46:51.965485Z",
     "iopub.status.busy": "2024-12-16T08:46:51.965102Z",
     "iopub.status.idle": "2024-12-16T08:46:51.972770Z",
     "shell.execute_reply": "2024-12-16T08:46:51.971722Z"
    },
    "papermill": {
     "duration": 0.021834,
     "end_time": "2024-12-16T08:46:51.974926",
     "exception": false,
     "start_time": "2024-12-16T08:46:51.953092",
     "status": "completed"
    },
    "tags": []
   },
   "outputs": [
    {
     "data": {
      "text/plain": [
       "ingredients\n",
       "salt         18049\n",
       "olive oil     7972\n",
       "onions        7972\n",
       "water         7457\n",
       "garlic        7380\n",
       "Name: count, dtype: int64"
      ]
     },
     "execution_count": 18,
     "metadata": {},
     "output_type": "execute_result"
    }
   ],
   "source": [
    "ingredient_counts.head(5)"
   ]
  },
  {
   "cell_type": "code",
   "execution_count": 19,
   "id": "ba06780f",
   "metadata": {
    "execution": {
     "iopub.execute_input": "2024-12-16T08:46:51.999185Z",
     "iopub.status.busy": "2024-12-16T08:46:51.998155Z",
     "iopub.status.idle": "2024-12-16T08:46:52.005629Z",
     "shell.execute_reply": "2024-12-16T08:46:52.004605Z"
    },
    "papermill": {
     "duration": 0.021636,
     "end_time": "2024-12-16T08:46:52.007608",
     "exception": false,
     "start_time": "2024-12-16T08:46:51.985972",
     "status": "completed"
    },
    "tags": []
   },
   "outputs": [
    {
     "data": {
      "text/plain": [
       "ingredients\n",
       "sauerkraut juice             1\n",
       "no-calorie sweetener         1\n",
       "Bob Evans Italian Sausage    1\n",
       "extra firm silken tofu       1\n",
       "crushed cheese crackers      1\n",
       "Name: count, dtype: int64"
      ]
     },
     "execution_count": 19,
     "metadata": {},
     "output_type": "execute_result"
    }
   ],
   "source": [
    "ingredient_counts.tail(5)"
   ]
  },
  {
   "cell_type": "code",
   "execution_count": 20,
   "id": "0082a827",
   "metadata": {
    "execution": {
     "iopub.execute_input": "2024-12-16T08:46:52.031699Z",
     "iopub.status.busy": "2024-12-16T08:46:52.031270Z",
     "iopub.status.idle": "2024-12-16T08:46:52.135869Z",
     "shell.execute_reply": "2024-12-16T08:46:52.134776Z"
    },
    "papermill": {
     "duration": 0.119408,
     "end_time": "2024-12-16T08:46:52.138160",
     "exception": false,
     "start_time": "2024-12-16T08:46:52.018752",
     "status": "completed"
    },
    "tags": []
   },
   "outputs": [
    {
     "data": {
      "text/plain": [
       "cuisine\n",
       "italian         2929\n",
       "mexican         2684\n",
       "southern_us     2462\n",
       "french          2102\n",
       "chinese         1792\n",
       "indian          1664\n",
       "cajun_creole    1576\n",
       "japanese        1439\n",
       "thai            1376\n",
       "spanish         1263\n",
       "greek           1198\n",
       "british         1166\n",
       "vietnamese      1108\n",
       "irish            999\n",
       "moroccan         974\n",
       "filipino         947\n",
       "korean           898\n",
       "jamaican         877\n",
       "russian          872\n",
       "brazilian        853\n",
       "Name: ingredients, dtype: int64"
      ]
     },
     "execution_count": 20,
     "metadata": {},
     "output_type": "execute_result"
    }
   ],
   "source": [
    "cuisine_ingredients = train.groupby('cuisine')['ingredients'].agg(lambda x: len(set([item for sublist in x for item in sublist]))).sort_values(ascending=False)\n",
    "cuisine_ingredients"
   ]
  },
  {
   "cell_type": "markdown",
   "id": "3126ea3c",
   "metadata": {
    "papermill": {
     "duration": 0.011051,
     "end_time": "2024-12-16T08:46:52.161475",
     "exception": false,
     "start_time": "2024-12-16T08:46:52.150424",
     "status": "completed"
    },
    "tags": []
   },
   "source": [
    "* Количество различных ингридиентов - 6714\n",
    "* Минимальное количество ингридиентов для одной записи - 1\n",
    "* Максимальное количество ингридиентов для одной записи - 65\n",
    "* Среднее значение ингридиентов для одной записи ~ 10\n",
    "* Медианное значение ингридиентов для одной записи - 10\n",
    "* Наиболее встречающийся ингридиент - соль\n",
    "* Наименее встречающийся игридиент - измельченные сырные крекеры (и еще ~1900)\n",
    "* Наиболее разнообразная кухня - итальянская\n",
    "* Наименее разнообразная кухня - бразильская"
   ]
  },
  {
   "cell_type": "markdown",
   "id": "6f80157e",
   "metadata": {
    "papermill": {
     "duration": 0.011081,
     "end_time": "2024-12-16T08:46:52.183920",
     "exception": false,
     "start_time": "2024-12-16T08:46:52.172839",
     "status": "completed"
    },
    "tags": []
   },
   "source": [
    "## Анализ пропущенных значений"
   ]
  },
  {
   "cell_type": "code",
   "execution_count": 21,
   "id": "f0a4089e",
   "metadata": {
    "execution": {
     "iopub.execute_input": "2024-12-16T08:46:52.208435Z",
     "iopub.status.busy": "2024-12-16T08:46:52.208031Z",
     "iopub.status.idle": "2024-12-16T08:46:52.242548Z",
     "shell.execute_reply": "2024-12-16T08:46:52.241484Z"
    },
    "papermill": {
     "duration": 0.049429,
     "end_time": "2024-12-16T08:46:52.244807",
     "exception": false,
     "start_time": "2024-12-16T08:46:52.195378",
     "status": "completed"
    },
    "tags": []
   },
   "outputs": [
    {
     "name": "stdout",
     "output_type": "stream",
     "text": [
      "Пропущенные типы кухни: 0\n",
      "Пропущенные списки ингредиентов: 0\n",
      "Пустые списки ингредиентов: 0\n"
     ]
    }
   ],
   "source": [
    "empty_cuisine = train['cuisine'].isnull().sum()\n",
    "empty_ingredients = train['ingredients'].isnull().sum()\n",
    "empty_ingredients_list = (train['ingredients'].str.len() == 0).sum()\n",
    "\n",
    "print(\"Пропущенные типы кухни:\", empty_cuisine)\n",
    "print(\"Пропущенные списки ингредиентов:\", empty_ingredients)\n",
    "print(\"Пустые списки ингредиентов:\", empty_ingredients_list)"
   ]
  },
  {
   "cell_type": "markdown",
   "id": "73780a73",
   "metadata": {
    "papermill": {
     "duration": 0.011215,
     "end_time": "2024-12-16T08:46:52.267446",
     "exception": false,
     "start_time": "2024-12-16T08:46:52.256231",
     "status": "completed"
    },
    "tags": []
   },
   "source": [
    "# Предобработка данных\n",
    "## Преобразование целевой переменной"
   ]
  },
  {
   "cell_type": "code",
   "execution_count": 22,
   "id": "da2ce758",
   "metadata": {
    "execution": {
     "iopub.execute_input": "2024-12-16T08:46:52.291905Z",
     "iopub.status.busy": "2024-12-16T08:46:52.291512Z",
     "iopub.status.idle": "2024-12-16T08:46:52.323601Z",
     "shell.execute_reply": "2024-12-16T08:46:52.322249Z"
    },
    "papermill": {
     "duration": 0.047104,
     "end_time": "2024-12-16T08:46:52.325903",
     "exception": false,
     "start_time": "2024-12-16T08:46:52.278799",
     "status": "completed"
    },
    "tags": []
   },
   "outputs": [
    {
     "data": {
      "text/html": [
       "<div>\n",
       "<style scoped>\n",
       "    .dataframe tbody tr th:only-of-type {\n",
       "        vertical-align: middle;\n",
       "    }\n",
       "\n",
       "    .dataframe tbody tr th {\n",
       "        vertical-align: top;\n",
       "    }\n",
       "\n",
       "    .dataframe thead th {\n",
       "        text-align: right;\n",
       "    }\n",
       "</style>\n",
       "<table border=\"1\" class=\"dataframe\">\n",
       "  <thead>\n",
       "    <tr style=\"text-align: right;\">\n",
       "      <th></th>\n",
       "      <th>id</th>\n",
       "      <th>cuisine</th>\n",
       "      <th>ingredients</th>\n",
       "      <th>cuisine_label_encoder</th>\n",
       "    </tr>\n",
       "  </thead>\n",
       "  <tbody>\n",
       "    <tr>\n",
       "      <th>0</th>\n",
       "      <td>10259</td>\n",
       "      <td>greek</td>\n",
       "      <td>[romaine lettuce, black olives, grape tomatoes...</td>\n",
       "      <td>6</td>\n",
       "    </tr>\n",
       "    <tr>\n",
       "      <th>1</th>\n",
       "      <td>25693</td>\n",
       "      <td>southern_us</td>\n",
       "      <td>[plain flour, ground pepper, salt, tomatoes, g...</td>\n",
       "      <td>16</td>\n",
       "    </tr>\n",
       "    <tr>\n",
       "      <th>2</th>\n",
       "      <td>20130</td>\n",
       "      <td>filipino</td>\n",
       "      <td>[eggs, pepper, salt, mayonaise, cooking oil, g...</td>\n",
       "      <td>4</td>\n",
       "    </tr>\n",
       "    <tr>\n",
       "      <th>3</th>\n",
       "      <td>22213</td>\n",
       "      <td>indian</td>\n",
       "      <td>[water, vegetable oil, wheat, salt]</td>\n",
       "      <td>7</td>\n",
       "    </tr>\n",
       "    <tr>\n",
       "      <th>4</th>\n",
       "      <td>13162</td>\n",
       "      <td>indian</td>\n",
       "      <td>[black pepper, shallots, cornflour, cayenne pe...</td>\n",
       "      <td>7</td>\n",
       "    </tr>\n",
       "    <tr>\n",
       "      <th>5</th>\n",
       "      <td>6602</td>\n",
       "      <td>jamaican</td>\n",
       "      <td>[plain flour, sugar, butter, eggs, fresh ginge...</td>\n",
       "      <td>10</td>\n",
       "    </tr>\n",
       "    <tr>\n",
       "      <th>6</th>\n",
       "      <td>42779</td>\n",
       "      <td>spanish</td>\n",
       "      <td>[olive oil, salt, medium shrimp, pepper, garli...</td>\n",
       "      <td>17</td>\n",
       "    </tr>\n",
       "    <tr>\n",
       "      <th>7</th>\n",
       "      <td>3735</td>\n",
       "      <td>italian</td>\n",
       "      <td>[sugar, pistachio nuts, white almond bark, flo...</td>\n",
       "      <td>9</td>\n",
       "    </tr>\n",
       "    <tr>\n",
       "      <th>8</th>\n",
       "      <td>16903</td>\n",
       "      <td>mexican</td>\n",
       "      <td>[olive oil, purple onion, fresh pineapple, por...</td>\n",
       "      <td>13</td>\n",
       "    </tr>\n",
       "    <tr>\n",
       "      <th>9</th>\n",
       "      <td>12734</td>\n",
       "      <td>italian</td>\n",
       "      <td>[chopped tomatoes, fresh basil, garlic, extra-...</td>\n",
       "      <td>9</td>\n",
       "    </tr>\n",
       "  </tbody>\n",
       "</table>\n",
       "</div>"
      ],
      "text/plain": [
       "      id      cuisine                                        ingredients  \\\n",
       "0  10259        greek  [romaine lettuce, black olives, grape tomatoes...   \n",
       "1  25693  southern_us  [plain flour, ground pepper, salt, tomatoes, g...   \n",
       "2  20130     filipino  [eggs, pepper, salt, mayonaise, cooking oil, g...   \n",
       "3  22213       indian                [water, vegetable oil, wheat, salt]   \n",
       "4  13162       indian  [black pepper, shallots, cornflour, cayenne pe...   \n",
       "5   6602     jamaican  [plain flour, sugar, butter, eggs, fresh ginge...   \n",
       "6  42779      spanish  [olive oil, salt, medium shrimp, pepper, garli...   \n",
       "7   3735      italian  [sugar, pistachio nuts, white almond bark, flo...   \n",
       "8  16903      mexican  [olive oil, purple onion, fresh pineapple, por...   \n",
       "9  12734      italian  [chopped tomatoes, fresh basil, garlic, extra-...   \n",
       "\n",
       "   cuisine_label_encoder  \n",
       "0                      6  \n",
       "1                     16  \n",
       "2                      4  \n",
       "3                      7  \n",
       "4                      7  \n",
       "5                     10  \n",
       "6                     17  \n",
       "7                      9  \n",
       "8                     13  \n",
       "9                      9  "
      ]
     },
     "execution_count": 22,
     "metadata": {},
     "output_type": "execute_result"
    }
   ],
   "source": [
    "label_encoder = LabelEncoder()\n",
    "train['cuisine_label_encoder'] = label_encoder.fit_transform(train['cuisine'])\n",
    "train.head(10)"
   ]
  },
  {
   "cell_type": "markdown",
   "id": "91a60560",
   "metadata": {
    "papermill": {
     "duration": 0.011474,
     "end_time": "2024-12-16T08:46:52.349239",
     "exception": false,
     "start_time": "2024-12-16T08:46:52.337765",
     "status": "completed"
    },
    "tags": []
   },
   "source": [
    "## Преобразование ингредиентов"
   ]
  },
  {
   "cell_type": "code",
   "execution_count": 23,
   "id": "a8ceb83e",
   "metadata": {
    "execution": {
     "iopub.execute_input": "2024-12-16T08:46:52.374481Z",
     "iopub.status.busy": "2024-12-16T08:46:52.374096Z",
     "iopub.status.idle": "2024-12-16T08:46:52.379504Z",
     "shell.execute_reply": "2024-12-16T08:46:52.378459Z"
    },
    "papermill": {
     "duration": 0.020382,
     "end_time": "2024-12-16T08:46:52.381468",
     "exception": false,
     "start_time": "2024-12-16T08:46:52.361086",
     "status": "completed"
    },
    "tags": []
   },
   "outputs": [],
   "source": [
    "def preprocess_ingredients(ingredients):\n",
    "    text = ' '.join(ingredients)\n",
    "    text = re.sub(r'\\d+', '', text)\n",
    "    text = re.sub(r'[^a-zA-Z\\s]', '', text)\n",
    "    text = re.sub(r'\\s+', ' ', text)\n",
    "    \n",
    "    return text"
   ]
  },
  {
   "cell_type": "code",
   "execution_count": 24,
   "id": "c9c7e73b",
   "metadata": {
    "execution": {
     "iopub.execute_input": "2024-12-16T08:46:52.407350Z",
     "iopub.status.busy": "2024-12-16T08:46:52.406262Z",
     "iopub.status.idle": "2024-12-16T08:46:52.997427Z",
     "shell.execute_reply": "2024-12-16T08:46:52.996319Z"
    },
    "papermill": {
     "duration": 0.606485,
     "end_time": "2024-12-16T08:46:52.999813",
     "exception": false,
     "start_time": "2024-12-16T08:46:52.393328",
     "status": "completed"
    },
    "tags": []
   },
   "outputs": [],
   "source": [
    "train['preprocess_ingredients'] = train['ingredients'].apply(preprocess_ingredients)"
   ]
  },
  {
   "cell_type": "code",
   "execution_count": 25,
   "id": "f0265c43",
   "metadata": {
    "execution": {
     "iopub.execute_input": "2024-12-16T08:46:53.024349Z",
     "iopub.status.busy": "2024-12-16T08:46:53.023980Z",
     "iopub.status.idle": "2024-12-16T08:48:36.973735Z",
     "shell.execute_reply": "2024-12-16T08:48:36.972743Z"
    },
    "papermill": {
     "duration": 103.964801,
     "end_time": "2024-12-16T08:48:36.976257",
     "exception": false,
     "start_time": "2024-12-16T08:46:53.011456",
     "status": "completed"
    },
    "tags": []
   },
   "outputs": [],
   "source": [
    "tfidf = TfidfVectorizer(\n",
    "    stop_words='english',\n",
    "    ngram_range=(1, 2),\n",
    "    analyzer=\"word\",\n",
    "    max_df=0.57,\n",
    "    binary=False,\n",
    "    token_pattern=r'\\b\\w+\\b',\n",
    "    sublinear_tf=False\n",
    ")\n",
    "\n",
    "ingredients_tfidf = tfidf.fit_transform(train['preprocess_ingredients'])\n",
    "\n",
    "ingredients_tfidf_df = pd.DataFrame(\n",
    "    ingredients_tfidf.toarray(),\n",
    "    columns=tfidf.get_feature_names_out(),\n",
    "    index=train.index\n",
    ")\n",
    "\n",
    "train_final = pd.concat([train[['id', 'cuisine', 'cuisine_label_encoder']], ingredients_tfidf_df], axis=1)"
   ]
  },
  {
   "cell_type": "code",
   "execution_count": 26,
   "id": "ebdb9f2e",
   "metadata": {
    "execution": {
     "iopub.execute_input": "2024-12-16T08:48:37.001050Z",
     "iopub.status.busy": "2024-12-16T08:48:37.000690Z",
     "iopub.status.idle": "2024-12-16T08:48:37.525192Z",
     "shell.execute_reply": "2024-12-16T08:48:37.523888Z"
    },
    "papermill": {
     "duration": 0.539247,
     "end_time": "2024-12-16T08:48:37.527451",
     "exception": false,
     "start_time": "2024-12-16T08:48:36.988204",
     "status": "completed"
    },
    "tags": []
   },
   "outputs": [
    {
     "data": {
      "text/html": [
       "<div>\n",
       "<style scoped>\n",
       "    .dataframe tbody tr th:only-of-type {\n",
       "        vertical-align: middle;\n",
       "    }\n",
       "\n",
       "    .dataframe tbody tr th {\n",
       "        vertical-align: top;\n",
       "    }\n",
       "\n",
       "    .dataframe thead th {\n",
       "        text-align: right;\n",
       "    }\n",
       "</style>\n",
       "<table border=\"1\" class=\"dataframe\">\n",
       "  <thead>\n",
       "    <tr style=\"text-align: right;\">\n",
       "      <th></th>\n",
       "      <th>id</th>\n",
       "      <th>cuisine</th>\n",
       "      <th>cuisine_label_encoder</th>\n",
       "      <th>aai</th>\n",
       "      <th>aai almond</th>\n",
       "      <th>aai beets</th>\n",
       "      <th>aai coconut</th>\n",
       "      <th>aai fresh</th>\n",
       "      <th>aai frozen</th>\n",
       "      <th>aai goji</th>\n",
       "      <th>...</th>\n",
       "      <th>zucchini waxy</th>\n",
       "      <th>zucchini wheat</th>\n",
       "      <th>zucchini whipping</th>\n",
       "      <th>zucchini white</th>\n",
       "      <th>zucchini wine</th>\n",
       "      <th>zucchini wishbone</th>\n",
       "      <th>zucchini worcestershire</th>\n",
       "      <th>zucchini yellow</th>\n",
       "      <th>zucchini yukon</th>\n",
       "      <th>zucchini zucchini</th>\n",
       "    </tr>\n",
       "  </thead>\n",
       "  <tbody>\n",
       "    <tr>\n",
       "      <th>0</th>\n",
       "      <td>10259</td>\n",
       "      <td>greek</td>\n",
       "      <td>6</td>\n",
       "      <td>0.0</td>\n",
       "      <td>0.0</td>\n",
       "      <td>0.0</td>\n",
       "      <td>0.0</td>\n",
       "      <td>0.0</td>\n",
       "      <td>0.0</td>\n",
       "      <td>0.0</td>\n",
       "      <td>...</td>\n",
       "      <td>0.0</td>\n",
       "      <td>0.0</td>\n",
       "      <td>0.0</td>\n",
       "      <td>0.0</td>\n",
       "      <td>0.0</td>\n",
       "      <td>0.0</td>\n",
       "      <td>0.0</td>\n",
       "      <td>0.0</td>\n",
       "      <td>0.0</td>\n",
       "      <td>0.0</td>\n",
       "    </tr>\n",
       "    <tr>\n",
       "      <th>1</th>\n",
       "      <td>25693</td>\n",
       "      <td>southern_us</td>\n",
       "      <td>16</td>\n",
       "      <td>0.0</td>\n",
       "      <td>0.0</td>\n",
       "      <td>0.0</td>\n",
       "      <td>0.0</td>\n",
       "      <td>0.0</td>\n",
       "      <td>0.0</td>\n",
       "      <td>0.0</td>\n",
       "      <td>...</td>\n",
       "      <td>0.0</td>\n",
       "      <td>0.0</td>\n",
       "      <td>0.0</td>\n",
       "      <td>0.0</td>\n",
       "      <td>0.0</td>\n",
       "      <td>0.0</td>\n",
       "      <td>0.0</td>\n",
       "      <td>0.0</td>\n",
       "      <td>0.0</td>\n",
       "      <td>0.0</td>\n",
       "    </tr>\n",
       "    <tr>\n",
       "      <th>2</th>\n",
       "      <td>20130</td>\n",
       "      <td>filipino</td>\n",
       "      <td>4</td>\n",
       "      <td>0.0</td>\n",
       "      <td>0.0</td>\n",
       "      <td>0.0</td>\n",
       "      <td>0.0</td>\n",
       "      <td>0.0</td>\n",
       "      <td>0.0</td>\n",
       "      <td>0.0</td>\n",
       "      <td>...</td>\n",
       "      <td>0.0</td>\n",
       "      <td>0.0</td>\n",
       "      <td>0.0</td>\n",
       "      <td>0.0</td>\n",
       "      <td>0.0</td>\n",
       "      <td>0.0</td>\n",
       "      <td>0.0</td>\n",
       "      <td>0.0</td>\n",
       "      <td>0.0</td>\n",
       "      <td>0.0</td>\n",
       "    </tr>\n",
       "    <tr>\n",
       "      <th>3</th>\n",
       "      <td>22213</td>\n",
       "      <td>indian</td>\n",
       "      <td>7</td>\n",
       "      <td>0.0</td>\n",
       "      <td>0.0</td>\n",
       "      <td>0.0</td>\n",
       "      <td>0.0</td>\n",
       "      <td>0.0</td>\n",
       "      <td>0.0</td>\n",
       "      <td>0.0</td>\n",
       "      <td>...</td>\n",
       "      <td>0.0</td>\n",
       "      <td>0.0</td>\n",
       "      <td>0.0</td>\n",
       "      <td>0.0</td>\n",
       "      <td>0.0</td>\n",
       "      <td>0.0</td>\n",
       "      <td>0.0</td>\n",
       "      <td>0.0</td>\n",
       "      <td>0.0</td>\n",
       "      <td>0.0</td>\n",
       "    </tr>\n",
       "    <tr>\n",
       "      <th>4</th>\n",
       "      <td>13162</td>\n",
       "      <td>indian</td>\n",
       "      <td>7</td>\n",
       "      <td>0.0</td>\n",
       "      <td>0.0</td>\n",
       "      <td>0.0</td>\n",
       "      <td>0.0</td>\n",
       "      <td>0.0</td>\n",
       "      <td>0.0</td>\n",
       "      <td>0.0</td>\n",
       "      <td>...</td>\n",
       "      <td>0.0</td>\n",
       "      <td>0.0</td>\n",
       "      <td>0.0</td>\n",
       "      <td>0.0</td>\n",
       "      <td>0.0</td>\n",
       "      <td>0.0</td>\n",
       "      <td>0.0</td>\n",
       "      <td>0.0</td>\n",
       "      <td>0.0</td>\n",
       "      <td>0.0</td>\n",
       "    </tr>\n",
       "  </tbody>\n",
       "</table>\n",
       "<p>5 rows × 81419 columns</p>\n",
       "</div>"
      ],
      "text/plain": [
       "      id      cuisine  cuisine_label_encoder  aai  aai almond  aai beets  \\\n",
       "0  10259        greek                      6  0.0         0.0        0.0   \n",
       "1  25693  southern_us                     16  0.0         0.0        0.0   \n",
       "2  20130     filipino                      4  0.0         0.0        0.0   \n",
       "3  22213       indian                      7  0.0         0.0        0.0   \n",
       "4  13162       indian                      7  0.0         0.0        0.0   \n",
       "\n",
       "   aai coconut  aai fresh  aai frozen  aai goji  ...  zucchini waxy  \\\n",
       "0          0.0        0.0         0.0       0.0  ...            0.0   \n",
       "1          0.0        0.0         0.0       0.0  ...            0.0   \n",
       "2          0.0        0.0         0.0       0.0  ...            0.0   \n",
       "3          0.0        0.0         0.0       0.0  ...            0.0   \n",
       "4          0.0        0.0         0.0       0.0  ...            0.0   \n",
       "\n",
       "   zucchini wheat  zucchini whipping  zucchini white  zucchini wine  \\\n",
       "0             0.0                0.0             0.0            0.0   \n",
       "1             0.0                0.0             0.0            0.0   \n",
       "2             0.0                0.0             0.0            0.0   \n",
       "3             0.0                0.0             0.0            0.0   \n",
       "4             0.0                0.0             0.0            0.0   \n",
       "\n",
       "   zucchini wishbone  zucchini worcestershire  zucchini yellow  \\\n",
       "0                0.0                      0.0              0.0   \n",
       "1                0.0                      0.0              0.0   \n",
       "2                0.0                      0.0              0.0   \n",
       "3                0.0                      0.0              0.0   \n",
       "4                0.0                      0.0              0.0   \n",
       "\n",
       "   zucchini yukon  zucchini zucchini  \n",
       "0             0.0                0.0  \n",
       "1             0.0                0.0  \n",
       "2             0.0                0.0  \n",
       "3             0.0                0.0  \n",
       "4             0.0                0.0  \n",
       "\n",
       "[5 rows x 81419 columns]"
      ]
     },
     "execution_count": 26,
     "metadata": {},
     "output_type": "execute_result"
    }
   ],
   "source": [
    "train_final.head()"
   ]
  },
  {
   "cell_type": "markdown",
   "id": "97ae42bc",
   "metadata": {
    "papermill": {
     "duration": 0.012807,
     "end_time": "2024-12-16T08:48:37.553165",
     "exception": false,
     "start_time": "2024-12-16T08:48:37.540358",
     "status": "completed"
    },
    "tags": []
   },
   "source": [
    "# Обучение модели (метод SVC)"
   ]
  },
  {
   "cell_type": "code",
   "execution_count": 27,
   "id": "d76ab5be",
   "metadata": {
    "execution": {
     "iopub.execute_input": "2024-12-16T08:48:37.581175Z",
     "iopub.status.busy": "2024-12-16T08:48:37.580154Z",
     "iopub.status.idle": "2024-12-16T08:48:37.601591Z",
     "shell.execute_reply": "2024-12-16T08:48:37.600251Z"
    },
    "papermill": {
     "duration": 0.038497,
     "end_time": "2024-12-16T08:48:37.604438",
     "exception": false,
     "start_time": "2024-12-16T08:48:37.565941",
     "status": "completed"
    },
    "tags": []
   },
   "outputs": [],
   "source": [
    "X = ingredients_tfidf\n",
    "y = train['cuisine_label_encoder']\n",
    "\n",
    "X_train, X_test, y_train, y_test = train_test_split(X, y, test_size=0.2, random_state=42)"
   ]
  },
  {
   "cell_type": "code",
   "execution_count": 28,
   "id": "66252a28",
   "metadata": {
    "execution": {
     "iopub.execute_input": "2024-12-16T08:48:37.633371Z",
     "iopub.status.busy": "2024-12-16T08:48:37.632235Z",
     "iopub.status.idle": "2024-12-16T08:52:11.292171Z",
     "shell.execute_reply": "2024-12-16T08:52:11.291047Z"
    },
    "papermill": {
     "duration": 213.690089,
     "end_time": "2024-12-16T08:52:11.307931",
     "exception": false,
     "start_time": "2024-12-16T08:48:37.617842",
     "status": "completed"
    },
    "tags": []
   },
   "outputs": [
    {
     "data": {
      "text/html": [
       "<style>#sk-container-id-1 {color: black;background-color: white;}#sk-container-id-1 pre{padding: 0;}#sk-container-id-1 div.sk-toggleable {background-color: white;}#sk-container-id-1 label.sk-toggleable__label {cursor: pointer;display: block;width: 100%;margin-bottom: 0;padding: 0.3em;box-sizing: border-box;text-align: center;}#sk-container-id-1 label.sk-toggleable__label-arrow:before {content: \"▸\";float: left;margin-right: 0.25em;color: #696969;}#sk-container-id-1 label.sk-toggleable__label-arrow:hover:before {color: black;}#sk-container-id-1 div.sk-estimator:hover label.sk-toggleable__label-arrow:before {color: black;}#sk-container-id-1 div.sk-toggleable__content {max-height: 0;max-width: 0;overflow: hidden;text-align: left;background-color: #f0f8ff;}#sk-container-id-1 div.sk-toggleable__content pre {margin: 0.2em;color: black;border-radius: 0.25em;background-color: #f0f8ff;}#sk-container-id-1 input.sk-toggleable__control:checked~div.sk-toggleable__content {max-height: 200px;max-width: 100%;overflow: auto;}#sk-container-id-1 input.sk-toggleable__control:checked~label.sk-toggleable__label-arrow:before {content: \"▾\";}#sk-container-id-1 div.sk-estimator input.sk-toggleable__control:checked~label.sk-toggleable__label {background-color: #d4ebff;}#sk-container-id-1 div.sk-label input.sk-toggleable__control:checked~label.sk-toggleable__label {background-color: #d4ebff;}#sk-container-id-1 input.sk-hidden--visually {border: 0;clip: rect(1px 1px 1px 1px);clip: rect(1px, 1px, 1px, 1px);height: 1px;margin: -1px;overflow: hidden;padding: 0;position: absolute;width: 1px;}#sk-container-id-1 div.sk-estimator {font-family: monospace;background-color: #f0f8ff;border: 1px dotted black;border-radius: 0.25em;box-sizing: border-box;margin-bottom: 0.5em;}#sk-container-id-1 div.sk-estimator:hover {background-color: #d4ebff;}#sk-container-id-1 div.sk-parallel-item::after {content: \"\";width: 100%;border-bottom: 1px solid gray;flex-grow: 1;}#sk-container-id-1 div.sk-label:hover label.sk-toggleable__label {background-color: #d4ebff;}#sk-container-id-1 div.sk-serial::before {content: \"\";position: absolute;border-left: 1px solid gray;box-sizing: border-box;top: 0;bottom: 0;left: 50%;z-index: 0;}#sk-container-id-1 div.sk-serial {display: flex;flex-direction: column;align-items: center;background-color: white;padding-right: 0.2em;padding-left: 0.2em;position: relative;}#sk-container-id-1 div.sk-item {position: relative;z-index: 1;}#sk-container-id-1 div.sk-parallel {display: flex;align-items: stretch;justify-content: center;background-color: white;position: relative;}#sk-container-id-1 div.sk-item::before, #sk-container-id-1 div.sk-parallel-item::before {content: \"\";position: absolute;border-left: 1px solid gray;box-sizing: border-box;top: 0;bottom: 0;left: 50%;z-index: -1;}#sk-container-id-1 div.sk-parallel-item {display: flex;flex-direction: column;z-index: 1;position: relative;background-color: white;}#sk-container-id-1 div.sk-parallel-item:first-child::after {align-self: flex-end;width: 50%;}#sk-container-id-1 div.sk-parallel-item:last-child::after {align-self: flex-start;width: 50%;}#sk-container-id-1 div.sk-parallel-item:only-child::after {width: 0;}#sk-container-id-1 div.sk-dashed-wrapped {border: 1px dashed gray;margin: 0 0.4em 0.5em 0.4em;box-sizing: border-box;padding-bottom: 0.4em;background-color: white;}#sk-container-id-1 div.sk-label label {font-family: monospace;font-weight: bold;display: inline-block;line-height: 1.2em;}#sk-container-id-1 div.sk-label-container {text-align: center;}#sk-container-id-1 div.sk-container {/* jupyter's `normalize.less` sets `[hidden] { display: none; }` but bootstrap.min.css set `[hidden] { display: none !important; }` so we also need the `!important` here to be able to override the default hidden behavior on the sphinx rendered scikit-learn.org. See: https://github.com/scikit-learn/scikit-learn/issues/21755 */display: inline-block !important;position: relative;}#sk-container-id-1 div.sk-text-repr-fallback {display: none;}</style><div id=\"sk-container-id-1\" class=\"sk-top-container\"><div class=\"sk-text-repr-fallback\"><pre>SVC(kernel=&#x27;linear&#x27;, random_state=42)</pre><b>In a Jupyter environment, please rerun this cell to show the HTML representation or trust the notebook. <br />On GitHub, the HTML representation is unable to render, please try loading this page with nbviewer.org.</b></div><div class=\"sk-container\" hidden><div class=\"sk-item\"><div class=\"sk-estimator sk-toggleable\"><input class=\"sk-toggleable__control sk-hidden--visually\" id=\"sk-estimator-id-1\" type=\"checkbox\" checked><label for=\"sk-estimator-id-1\" class=\"sk-toggleable__label sk-toggleable__label-arrow\">SVC</label><div class=\"sk-toggleable__content\"><pre>SVC(kernel=&#x27;linear&#x27;, random_state=42)</pre></div></div></div></div></div>"
      ],
      "text/plain": [
       "SVC(kernel='linear', random_state=42)"
      ]
     },
     "execution_count": 28,
     "metadata": {},
     "output_type": "execute_result"
    }
   ],
   "source": [
    "model = SVC(kernel='linear', C=1.0, random_state=42)\n",
    "model.fit(X_train, y_train)"
   ]
  },
  {
   "cell_type": "code",
   "execution_count": 29,
   "id": "41111c4c",
   "metadata": {
    "execution": {
     "iopub.execute_input": "2024-12-16T08:52:11.334374Z",
     "iopub.status.busy": "2024-12-16T08:52:11.333689Z",
     "iopub.status.idle": "2024-12-16T08:53:07.937023Z",
     "shell.execute_reply": "2024-12-16T08:53:07.935942Z"
    },
    "papermill": {
     "duration": 56.619688,
     "end_time": "2024-12-16T08:53:07.939891",
     "exception": false,
     "start_time": "2024-12-16T08:52:11.320203",
     "status": "completed"
    },
    "tags": []
   },
   "outputs": [],
   "source": [
    "y_pred = model.predict(X_test)"
   ]
  },
  {
   "cell_type": "code",
   "execution_count": 30,
   "id": "f4bcdf66",
   "metadata": {
    "execution": {
     "iopub.execute_input": "2024-12-16T08:53:07.968868Z",
     "iopub.status.busy": "2024-12-16T08:53:07.968405Z",
     "iopub.status.idle": "2024-12-16T08:53:07.995747Z",
     "shell.execute_reply": "2024-12-16T08:53:07.994464Z"
    },
    "papermill": {
     "duration": 0.04517,
     "end_time": "2024-12-16T08:53:07.998393",
     "exception": false,
     "start_time": "2024-12-16T08:53:07.953223",
     "status": "completed"
    },
    "tags": []
   },
   "outputs": [
    {
     "name": "stdout",
     "output_type": "stream",
     "text": [
      "Precision: 0.7888626625643961\n",
      "Recall: 0.7868007542426148\n",
      "F1 Score: 0.7818836609427069\n"
     ]
    }
   ],
   "source": [
    "precision_svc = precision_score(y_test, y_pred, average='weighted')\n",
    "recall_svc = recall_score(y_test, y_pred, average='weighted')\n",
    "f1_svc = f1_score(y_test, y_pred, average='weighted')\n",
    "\n",
    "print(f\"Precision: {precision_svc}\")\n",
    "print(f\"Recall: {recall_svc}\")\n",
    "print(f\"F1 Score: {f1_svc}\")"
   ]
  },
  {
   "cell_type": "markdown",
   "id": "53d7190a",
   "metadata": {
    "papermill": {
     "duration": 0.012539,
     "end_time": "2024-12-16T08:53:08.023919",
     "exception": false,
     "start_time": "2024-12-16T08:53:08.011380",
     "status": "completed"
    },
    "tags": []
   },
   "source": [
    "# Предсказание на тестовых данных"
   ]
  },
  {
   "cell_type": "code",
   "execution_count": 31,
   "id": "9aae1371",
   "metadata": {
    "execution": {
     "iopub.execute_input": "2024-12-16T08:53:08.053095Z",
     "iopub.status.busy": "2024-12-16T08:53:08.051861Z",
     "iopub.status.idle": "2024-12-16T08:53:08.165464Z",
     "shell.execute_reply": "2024-12-16T08:53:08.164006Z"
    },
    "papermill": {
     "duration": 0.131555,
     "end_time": "2024-12-16T08:53:08.168634",
     "exception": false,
     "start_time": "2024-12-16T08:53:08.037079",
     "status": "completed"
    },
    "tags": []
   },
   "outputs": [],
   "source": [
    "with zipfile.ZipFile('/kaggle/input/whats-cooking/test.json.zip', 'r') as zf:\n",
    "    with zf.open('test.json') as f:\n",
    "        test_json = pd.read_json(f)"
   ]
  },
  {
   "cell_type": "code",
   "execution_count": 32,
   "id": "3c47af37",
   "metadata": {
    "execution": {
     "iopub.execute_input": "2024-12-16T08:53:08.197927Z",
     "iopub.status.busy": "2024-12-16T08:53:08.197470Z",
     "iopub.status.idle": "2024-12-16T08:53:08.772882Z",
     "shell.execute_reply": "2024-12-16T08:53:08.771357Z"
    },
    "papermill": {
     "duration": 0.593482,
     "end_time": "2024-12-16T08:53:08.775812",
     "exception": false,
     "start_time": "2024-12-16T08:53:08.182330",
     "status": "completed"
    },
    "tags": []
   },
   "outputs": [],
   "source": [
    "test_df = pd.DataFrame(test_json)\n",
    "test_df['preprocess_ingredients'] = test_df['ingredients'].apply(preprocess_ingredients)\n",
    "test_ingredients_tfidf = tfidf.transform(test_df['preprocess_ingredients'])"
   ]
  },
  {
   "cell_type": "code",
   "execution_count": 33,
   "id": "35efc2cb",
   "metadata": {
    "execution": {
     "iopub.execute_input": "2024-12-16T08:53:08.803906Z",
     "iopub.status.busy": "2024-12-16T08:53:08.803461Z",
     "iopub.status.idle": "2024-12-16T08:54:19.421414Z",
     "shell.execute_reply": "2024-12-16T08:54:19.420409Z"
    },
    "papermill": {
     "duration": 70.63537,
     "end_time": "2024-12-16T08:54:19.424230",
     "exception": false,
     "start_time": "2024-12-16T08:53:08.788860",
     "status": "completed"
    },
    "tags": []
   },
   "outputs": [],
   "source": [
    "test_predictions = model.predict(test_ingredients_tfidf)"
   ]
  },
  {
   "cell_type": "code",
   "execution_count": 34,
   "id": "a2ac7479",
   "metadata": {
    "execution": {
     "iopub.execute_input": "2024-12-16T08:54:19.452586Z",
     "iopub.status.busy": "2024-12-16T08:54:19.451605Z",
     "iopub.status.idle": "2024-12-16T08:54:19.458855Z",
     "shell.execute_reply": "2024-12-16T08:54:19.457762Z"
    },
    "papermill": {
     "duration": 0.023492,
     "end_time": "2024-12-16T08:54:19.461029",
     "exception": false,
     "start_time": "2024-12-16T08:54:19.437537",
     "status": "completed"
    },
    "tags": []
   },
   "outputs": [],
   "source": [
    "test_df['cuisine'] = label_encoder.inverse_transform(test_predictions)"
   ]
  },
  {
   "cell_type": "code",
   "execution_count": 35,
   "id": "7a98b701",
   "metadata": {
    "execution": {
     "iopub.execute_input": "2024-12-16T08:54:19.489269Z",
     "iopub.status.busy": "2024-12-16T08:54:19.488172Z",
     "iopub.status.idle": "2024-12-16T08:54:19.515172Z",
     "shell.execute_reply": "2024-12-16T08:54:19.514002Z"
    },
    "papermill": {
     "duration": 0.043827,
     "end_time": "2024-12-16T08:54:19.517778",
     "exception": false,
     "start_time": "2024-12-16T08:54:19.473951",
     "status": "completed"
    },
    "tags": []
   },
   "outputs": [
    {
     "name": "stdout",
     "output_type": "stream",
     "text": [
      "      id       cuisine\n",
      "0  18009       italian\n",
      "1  28583   southern_us\n",
      "2  41580       italian\n",
      "3  29752  cajun_creole\n",
      "4  35687       italian\n"
     ]
    }
   ],
   "source": [
    "test_df[['id', 'cuisine']].to_csv(\"submission.csv\", index=False)\n",
    "\n",
    "print(test_df[['id', 'cuisine']].head())"
   ]
  }
 ],
 "metadata": {
  "kaggle": {
   "accelerator": "none",
   "dataSources": [
    {
     "databundleVersionId": 34463,
     "sourceId": 4526,
     "sourceType": "competition"
    }
   ],
   "dockerImageVersionId": 30804,
   "isGpuEnabled": false,
   "isInternetEnabled": true,
   "language": "python",
   "sourceType": "notebook"
  },
  "kernelspec": {
   "display_name": "Python 3",
   "language": "python",
   "name": "python3"
  },
  "language_info": {
   "codemirror_mode": {
    "name": "ipython",
    "version": 3
   },
   "file_extension": ".py",
   "mimetype": "text/x-python",
   "name": "python",
   "nbconvert_exporter": "python",
   "pygments_lexer": "ipython3",
   "version": "3.10.14"
  },
  "papermill": {
   "default_parameters": {},
   "duration": 459.64655,
   "end_time": "2024-12-16T08:54:21.660160",
   "environment_variables": {},
   "exception": null,
   "input_path": "__notebook__.ipynb",
   "output_path": "__notebook__.ipynb",
   "parameters": {},
   "start_time": "2024-12-16T08:46:42.013610",
   "version": "2.6.0"
  }
 },
 "nbformat": 4,
 "nbformat_minor": 5
}
